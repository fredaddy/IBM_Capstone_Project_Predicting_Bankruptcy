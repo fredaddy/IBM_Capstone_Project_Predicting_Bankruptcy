{
    "cells": [
        {
            "metadata": {
                "collapsed": true
            },
            "cell_type": "markdown",
            "source": "# Here, we Extract, Transform, and Load the Data before going into Feature Engineering/Selection\n\nAs we found during the data exploration phase, our data is in good shape already, so most of the ETL pipeline is already complete. \n\nIn this section, we will focus on feature selection, since that will be a primary challenge in creating a useful model.\n\nWe will combine the ***Receiver Operating Characteristic (ROC) curve, the Area Under Curve (AUC) and Mutual Information (MI) algorithm*** in order to find the top N features by importance. We will then optimize for N when building our Model in order to find the most accurate model using the least amount of features possible. \n\nCredit to https://machinelearningmastery.com/feature-selection-with-categorical-data/ from which the MI code was modified. \n\n## Begin by importing the bankruptcy data from Cloud Object Storage"
        },
        {
            "metadata": {},
            "cell_type": "code",
            "source": "# Import bankruptcy data from COS\nimport types\nimport pandas as pd\nfrom botocore.client import Config\nimport ibm_boto3\n\ndef __iter__(self): return 0\n\n# @hidden_cell\n# The following code accesses a file in your IBM Cloud Object Storage. It includes your credentials.\n# You might want to remove those credentials before you share the notebook.\nclient_1c720e1b65aa412b89762bf230a6b5f6 = ibm_boto3.client(service_name='s3',\n    ibm_api_key_id='7GN1Hk1VrQ0_RGdupGi9ZaphffKXQb6iMJPgYn1DNqgh',\n    ibm_auth_endpoint=\"https://iam.cloud.ibm.com/oidc/token\",\n    config=Config(signature_version='oauth'),\n    endpoint_url='https://s3-api.us-geo.objectstorage.service.networklayer.com')\n\nbody = client_1c720e1b65aa412b89762bf230a6b5f6.get_object(Bucket='ibmcapstoneproject-donotdelete-pr-iiaol8yd9vtgm6',Key='data.csv')['Body']\n# add missing __iter__ method, so pandas accepts body as file-like object\nif not hasattr(body, \"__iter__\"): body.__iter__ = types.MethodType( __iter__, body )\n\ndf = pd.read_csv(body)\ndf.head()\n",
            "execution_count": 3,
            "outputs": [
                {
                    "output_type": "execute_result",
                    "execution_count": 3,
                    "data": {
                        "text/plain": "   Bankrupt?   ROA(C) before interest and depreciation before interest  \\\n0          1                                           0.370594          \n1          1                                           0.464291          \n2          1                                           0.426071          \n3          1                                           0.399844          \n4          1                                           0.465022          \n\n    ROA(A) before interest and % after tax  \\\n0                                 0.424389   \n1                                 0.538214   \n2                                 0.499019   \n3                                 0.451265   \n4                                 0.538432   \n\n    ROA(B) before interest and depreciation after tax  \\\n0                                           0.405750    \n1                                           0.516730    \n2                                           0.472295    \n3                                           0.457733    \n4                                           0.522298    \n\n    operating gross margin   realized sales gross margin  \\\n0                 0.601457                      0.601457   \n1                 0.610235                      0.610235   \n2                 0.601450                      0.601364   \n3                 0.583541                      0.583541   \n4                 0.598783                      0.598783   \n\n    operating profit rate   tax Pre-net interest rate  \\\n0                0.998969                    0.796887   \n1                0.998946                    0.797380   \n2                0.998857                    0.796403   \n3                0.998700                    0.796967   \n4                0.998973                    0.797366   \n\n    after-tax net interest rate   non-industry income and expenditure/revenue  \\\n0                      0.808809                                      0.302646   \n1                      0.809301                                      0.303556   \n2                      0.808388                                      0.302035   \n3                      0.808966                                      0.303350   \n4                      0.809304                                      0.303475   \n\n   ...  net income to total assets  total assets to GNP price  \\\n0  ...                    0.716845                   0.009219   \n1  ...                    0.795297                   0.008323   \n2  ...                    0.774670                   0.040003   \n3  ...                    0.739555                   0.003252   \n4  ...                    0.795016                   0.003878   \n\n   No-credit interval  Gross profit to Sales  \\\n0            0.622879               0.601453   \n1            0.623652               0.610237   \n2            0.623841               0.601449   \n3            0.622929               0.583538   \n4            0.623521               0.598782   \n\n   Net income to stockholder's Equity  liability to equity  \\\n0                            0.827890             0.290202   \n1                            0.839969             0.283846   \n2                            0.836774             0.290189   \n3                            0.834697             0.281721   \n4                            0.839973             0.278514   \n\n   Degree of financial leverage (DFL)  \\\n0                            0.026601   \n1                            0.264577   \n2                            0.026555   \n3                            0.026697   \n4                            0.024752   \n\n   Interest coverage ratio( Interest expense to EBIT )  \\\n0                                           0.564050     \n1                                           0.570175     \n2                                           0.563706     \n3                                           0.564663     \n4                                           0.575617     \n\n   one if net income was negative for the last two year zero otherwise  \\\n0                                                  1                     \n1                                                  1                     \n2                                                  1                     \n3                                                  1                     \n4                                                  1                     \n\n   equity to liability  \n0             0.016469  \n1             0.020794  \n2             0.016474  \n3             0.023982  \n4             0.035490  \n\n[5 rows x 96 columns]",
                        "text/html": "<div>\n<style scoped>\n    .dataframe tbody tr th:only-of-type {\n        vertical-align: middle;\n    }\n\n    .dataframe tbody tr th {\n        vertical-align: top;\n    }\n\n    .dataframe thead th {\n        text-align: right;\n    }\n</style>\n<table border=\"1\" class=\"dataframe\">\n  <thead>\n    <tr style=\"text-align: right;\">\n      <th></th>\n      <th>Bankrupt?</th>\n      <th>ROA(C) before interest and depreciation before interest</th>\n      <th>ROA(A) before interest and % after tax</th>\n      <th>ROA(B) before interest and depreciation after tax</th>\n      <th>operating gross margin</th>\n      <th>realized sales gross margin</th>\n      <th>operating profit rate</th>\n      <th>tax Pre-net interest rate</th>\n      <th>after-tax net interest rate</th>\n      <th>non-industry income and expenditure/revenue</th>\n      <th>...</th>\n      <th>net income to total assets</th>\n      <th>total assets to GNP price</th>\n      <th>No-credit interval</th>\n      <th>Gross profit to Sales</th>\n      <th>Net income to stockholder's Equity</th>\n      <th>liability to equity</th>\n      <th>Degree of financial leverage (DFL)</th>\n      <th>Interest coverage ratio( Interest expense to EBIT )</th>\n      <th>one if net income was negative for the last two year zero otherwise</th>\n      <th>equity to liability</th>\n    </tr>\n  </thead>\n  <tbody>\n    <tr>\n      <th>0</th>\n      <td>1</td>\n      <td>0.370594</td>\n      <td>0.424389</td>\n      <td>0.405750</td>\n      <td>0.601457</td>\n      <td>0.601457</td>\n      <td>0.998969</td>\n      <td>0.796887</td>\n      <td>0.808809</td>\n      <td>0.302646</td>\n      <td>...</td>\n      <td>0.716845</td>\n      <td>0.009219</td>\n      <td>0.622879</td>\n      <td>0.601453</td>\n      <td>0.827890</td>\n      <td>0.290202</td>\n      <td>0.026601</td>\n      <td>0.564050</td>\n      <td>1</td>\n      <td>0.016469</td>\n    </tr>\n    <tr>\n      <th>1</th>\n      <td>1</td>\n      <td>0.464291</td>\n      <td>0.538214</td>\n      <td>0.516730</td>\n      <td>0.610235</td>\n      <td>0.610235</td>\n      <td>0.998946</td>\n      <td>0.797380</td>\n      <td>0.809301</td>\n      <td>0.303556</td>\n      <td>...</td>\n      <td>0.795297</td>\n      <td>0.008323</td>\n      <td>0.623652</td>\n      <td>0.610237</td>\n      <td>0.839969</td>\n      <td>0.283846</td>\n      <td>0.264577</td>\n      <td>0.570175</td>\n      <td>1</td>\n      <td>0.020794</td>\n    </tr>\n    <tr>\n      <th>2</th>\n      <td>1</td>\n      <td>0.426071</td>\n      <td>0.499019</td>\n      <td>0.472295</td>\n      <td>0.601450</td>\n      <td>0.601364</td>\n      <td>0.998857</td>\n      <td>0.796403</td>\n      <td>0.808388</td>\n      <td>0.302035</td>\n      <td>...</td>\n      <td>0.774670</td>\n      <td>0.040003</td>\n      <td>0.623841</td>\n      <td>0.601449</td>\n      <td>0.836774</td>\n      <td>0.290189</td>\n      <td>0.026555</td>\n      <td>0.563706</td>\n      <td>1</td>\n      <td>0.016474</td>\n    </tr>\n    <tr>\n      <th>3</th>\n      <td>1</td>\n      <td>0.399844</td>\n      <td>0.451265</td>\n      <td>0.457733</td>\n      <td>0.583541</td>\n      <td>0.583541</td>\n      <td>0.998700</td>\n      <td>0.796967</td>\n      <td>0.808966</td>\n      <td>0.303350</td>\n      <td>...</td>\n      <td>0.739555</td>\n      <td>0.003252</td>\n      <td>0.622929</td>\n      <td>0.583538</td>\n      <td>0.834697</td>\n      <td>0.281721</td>\n      <td>0.026697</td>\n      <td>0.564663</td>\n      <td>1</td>\n      <td>0.023982</td>\n    </tr>\n    <tr>\n      <th>4</th>\n      <td>1</td>\n      <td>0.465022</td>\n      <td>0.538432</td>\n      <td>0.522298</td>\n      <td>0.598783</td>\n      <td>0.598783</td>\n      <td>0.998973</td>\n      <td>0.797366</td>\n      <td>0.809304</td>\n      <td>0.303475</td>\n      <td>...</td>\n      <td>0.795016</td>\n      <td>0.003878</td>\n      <td>0.623521</td>\n      <td>0.598782</td>\n      <td>0.839973</td>\n      <td>0.278514</td>\n      <td>0.024752</td>\n      <td>0.575617</td>\n      <td>1</td>\n      <td>0.035490</td>\n    </tr>\n  </tbody>\n</table>\n<p>5 rows \u00d7 96 columns</p>\n</div>"
                    },
                    "metadata": {}
                }
            ]
        },
        {
            "metadata": {},
            "cell_type": "code",
            "source": "# IMPORTANT: sklearn.__version__ must be >= 0.24.1 for calculations later down the line\n# If your version does not meet this requirement, you must execute the following line and then RESTART KERNEL\n#! pip install -U scikit-learn==0.24.1",
            "execution_count": 4,
            "outputs": []
        },
        {
            "metadata": {},
            "cell_type": "markdown",
            "source": "## Next, plot the ROC curve"
        },
        {
            "metadata": {},
            "cell_type": "code",
            "source": "# Import necessary modules\nfrom sklearn.metrics import auc\nimport matplotlib.pyplot as plt\nimport numpy as np\nimport pandas as pd",
            "execution_count": 5,
            "outputs": []
        },
        {
            "metadata": {
                "scrolled": false
            },
            "cell_type": "code",
            "source": "# Some wrangling to prepare the data for analysis\n\n# Import the dataset as a numpy array\ndata = df.to_numpy()\n\n# Get feature names using Pandas DataFrame ... we'll need these later\nfeature_names = list(df.columns[1:])\n\n# Break data into Features and label\nX, y = data[:, 1:], data[:, 0]\n\n# Check data shape to make sure everything lines up.\n# We expect to see 6819 rows for both X and y\n# We expect to see X having 95 dimensions (96 total dimensions, minus 1 for the Label column)\n# We expect to see y having 1 dimension, as it is the Label column (i.e. 'Bankruptcy?')\nprint(feature_names)\nprint(X.shape, y.shape)",
            "execution_count": 6,
            "outputs": [
                {
                    "output_type": "stream",
                    "text": "[' ROA(C) before interest and depreciation before interest', ' ROA(A) before interest and % after tax', ' ROA(B) before interest and depreciation after tax', ' operating gross margin', ' realized sales gross margin', ' operating profit rate', ' tax Pre-net interest rate', ' after-tax net interest rate', ' non-industry income and expenditure/revenue', ' continuous interest rate (after tax)', ' operating expense rate', ' research and development expense rate', ' cash flow rate', ' interest-bearing debt interest rate', ' tax rate (A)', ' per Net Share Value (B)', ' Net Value Per Share (A)', ' Net Value Per Share (C)', ' Persistent EPS in the Last Four Seasons', ' Cash Flow Per Share', ' Revenue Per Share (Yuan)', ' Operating Profit Per Share (Yuan)', ' Per Share Net profit before tax (yuan)', ' realized sales gross profit growth rate', ' operating profit growth rate', ' after-tax net profit growth rate', ' regular net profit growth rate', ' continuous net profit growth rate', ' total asset growth rate', ' net value growth rate', ' total asset return growth rate Ratio', ' cash reinvestment %', ' current ratio', ' quick ratio', ' interest expense ratio', ' total debt/total net worth', ' debt ratio %', ' net worth/assets', ' long-term fund suitability ratio (A)', ' borrowing dependency', ' contingent liabilities/net worth', ' Operating profit/paid-in capital', ' net profit before tax/paid-in capital', ' inventory and accounts receivable/net value', ' total asset turnover', ' accounts receivable turnover', ' average collection days', ' inventory turnover rate (times)', ' fixed assets Turnover frequency', ' net worth turnover rate (times)', ' revenue per person', ' operating profit per person', ' allocation rate per person', ' working capital to total assets', 'Quick asset/Total asset', 'current assets/total assets', 'cash / total assets', 'Quick asset /current liabilities', 'cash / current liability', 'current liability to assets', 'operating funds to liability', 'Inventory/working capital', 'Inventory/current liability', 'current liability / liability', 'working capital/equity', 'current liability/equity', 'long-term liability to current assets', 'Retained Earnings/Total assets', 'total income / total expense', 'total expense /assets', ' current asset turnover rate', ' quick asset turnover rate', ' working capitcal turnover rate', ' cash turnover rate', ' Cash flow to Sales', ' fix assets to assets', ' current liability to liability', 'current liability to equity', 'equity to long-term liability', 'Cash flow to total assets', 'cash flow to liability', 'CFO to ASSETS', 'cash flow to equity', 'current liabilities to current assets', 'one if total liabilities exceeds total assets zero otherwise', 'net income to total assets', 'total assets to GNP price', 'No-credit interval', 'Gross profit to Sales', \"Net income to stockholder's Equity\", 'liability to equity', 'Degree of financial leverage (DFL)', 'Interest coverage ratio( Interest expense to EBIT )', 'one if net income was negative for the last two year zero otherwise', 'equity to liability']\n(6819, 95) (6819,)\n",
                    "name": "stdout"
                }
            ]
        },
        {
            "metadata": {
                "scrolled": true
            },
            "cell_type": "code",
            "source": "# Now, time to plot the ROC curve\n\n# This code takes awhile to run (10-15 mins with 2 CPU and 8GB of RAM), as there are a lot of features to analyze.\n# As we will see, there is an easier, faster method. But this was still my first step, so I include it here. \n\n# IF YOU ARE RUNNING THIS NOTEBOOK FROM SCRATCH, I RECOMMEND SKIPPING THIS CELL ENTIRELY\n    # there is a better approach in the cells below\n\n\"\"\"\n\n# Set dummy variable to determine which class to plot the ROC curve over\n# It turns out that this doesn't matter, i.e. y=0 and y=1 have the same result, but we include it anyway so the code works\n\ny_ = y == 0\n\nplt.figure(figsize=(13,7))\nfor col in range(X.shape[1]):\n    tpr,fpr = [],[]\n    for threshold in np.linspace(min(X[:,col]), max(X[:,col]), 100):\n        detP = X[:,col] < threshold\n        tpr.append(sum(detP & y_) / sum(y_)) \n        fpr.append(sum(detP & (~y_)) / sum((~y_)))\n        \n    if auc(fpr,tpr) < 0.5:\n        aux = tpr\n        tpr = fpr\n        fpr = aux\n    \n    \n    plt.plot(fpr, tpr, label=feature_names[col] + ', auc = '\\\n                        + str(np.round(auc(fpr,tpr),decimals=3)))\n    \nplt.title('ROC curve - Bankruptcy features')\nplt.xlabel('False Positive Rate')\nplt.ylabel('True Positive Rate')\nplt.legend()\nplt.show()\n\n\"\"\"",
            "execution_count": 7,
            "outputs": [
                {
                    "output_type": "execute_result",
                    "execution_count": 7,
                    "data": {
                        "text/plain": "\"\\n\\n# Set dummy variable to determine which class to plot the ROC curve over\\n# It turns out that this doesn't matter, i.e. y=0 and y=1 have the same result, but we include it anyway so the code works\\n\\ny_ = y == 0\\n\\nplt.figure(figsize=(13,7))\\nfor col in range(X.shape[1]):\\n    tpr,fpr = [],[]\\n    for threshold in np.linspace(min(X[:,col]), max(X[:,col]), 100):\\n        detP = X[:,col] < threshold\\n        tpr.append(sum(detP & y_) / sum(y_)) \\n        fpr.append(sum(detP & (~y_)) / sum((~y_)))\\n        \\n    if auc(fpr,tpr) < 0.5:\\n        aux = tpr\\n        tpr = fpr\\n        fpr = aux\\n    \\n    \\n    plt.plot(fpr, tpr, label=feature_names[col] + ', auc = '                        + str(np.round(auc(fpr,tpr),decimals=3)))\\n    \\nplt.title('ROC curve - Bankruptcy features')\\nplt.xlabel('False Positive Rate')\\nplt.ylabel('True Positive Rate')\\nplt.legend()\\nplt.show()\\n\\n\""
                    },
                    "metadata": {}
                }
            ]
        },
        {
            "metadata": {},
            "cell_type": "markdown",
            "source": "### If you run the code above, you'll see that there are far too many curves to pick out the most promising features.\n\nSo, we will take a different approach by choosing the top N features ranked by AUC. AUC is the integral of the ROC curve, so a higher score means more True Positives in the data. "
        },
        {
            "metadata": {
                "scrolled": true
            },
            "cell_type": "code",
            "source": "# This code is similar to the code for plotting, but here we simply record the AUC values\n# This code takes approximately 7 mins to run using 2 CPU and 8GB RAM\n\ny_ = y == 0 \n\nauc_scores = []\n\nfor col in range(X.shape[1]):\n    tpr, fpr = [], []\n    for threshold in np.linspace(min(X[:,col]), max(X[:,col]), 100):\n        detP = X[:,col] < threshold\n        tpr.append(sum(detP & y_) / sum(y_)) \n        fpr.append(sum(detP & (~y_)) / sum((~y_)))\n        \n    if auc(fpr,tpr) < 0.5:\n        aux = tpr\n        tpr = fpr\n        fpr = aux\n        \n    auc_value = str(np.round(auc(fpr, tpr), decimals=3))\n    auc_scores.append([feature_names[col], auc_value])\n    \n    print(feature_names[col] + ', auc = ', auc_value)",
            "execution_count": 8,
            "outputs": [
                {
                    "output_type": "stream",
                    "text": " ROA(C) before interest and depreciation before interest, auc =  0.863\n ROA(A) before interest and % after tax, auc =  0.861\n ROA(B) before interest and depreciation after tax, auc =  0.865\n operating gross margin, auc =  0.717\n realized sales gross margin, auc =  0.716\n operating profit rate, auc =  0.501\n tax Pre-net interest rate, auc =  0.513\n after-tax net interest rate, auc =  0.538\n non-industry income and expenditure/revenue, auc =  0.614\n continuous interest rate (after tax), auc =  0.512\n operating expense rate, auc =  0.511\n research and development expense rate, auc =  0.538\n cash flow rate, auc =  0.705\n interest-bearing debt interest rate, auc =  0.509\n tax rate (A), auc =  0.741\n per Net Share Value (B), auc =  0.827\n Net Value Per Share (A), auc =  0.826\n Net Value Per Share (C), auc =  0.824\n Persistent EPS in the Last Four Seasons, auc =  0.882\n Cash Flow Per Share, auc =  0.684\n Revenue Per Share (Yuan), auc =  0.5\n Operating Profit Per Share (Yuan), auc =  0.798\n Per Share Net profit before tax (yuan), auc =  0.873\n realized sales gross profit growth rate, auc =  0.502\n operating profit growth rate, auc =  0.526\n after-tax net profit growth rate, auc =  0.574\n regular net profit growth rate, auc =  0.572\n continuous net profit growth rate, auc =  0.507\n total asset growth rate, auc =  0.64\n net value growth rate, auc =  0.498\n total asset return growth rate Ratio, auc =  0.586\n cash reinvestment %, auc =  0.635\n current ratio, auc =  0.5\n quick ratio, auc =  0.498\n interest expense ratio, auc =  0.508\n total debt/total net worth, auc =  0.502\n debt ratio %, auc =  0.854\n net worth/assets, auc =  0.854\n long-term fund suitability ratio (A), auc =  0.524\n borrowing dependency, auc =  0.807\n contingent liabilities/net worth, auc =  0.514\n Operating profit/paid-in capital, auc =  0.801\n net profit before tax/paid-in capital, auc =  0.876\n inventory and accounts receivable/net value, auc =  0.619\n total asset turnover, auc =  0.647\n accounts receivable turnover, auc =  0.501\n average collection days, auc =  0.501\n inventory turnover rate (times), auc =  0.52\n fixed assets Turnover frequency, auc =  0.6\n net worth turnover rate (times), auc =  0.521\n revenue per person, auc =  0.502\n operating profit per person, auc =  0.762\n allocation rate per person, auc =  0.502\n working capital to total assets, auc =  0.782\nQuick asset/Total asset, auc =  0.64\ncurrent assets/total assets, auc =  0.572\ncash / total assets, auc =  0.743\nQuick asset /current liabilities, auc =  0.5\ncash / current liability, auc =  0.532\ncurrent liability to assets, auc =  0.773\noperating funds to liability, auc =  0.718\nInventory/working capital, auc =  0.501\nInventory/current liability, auc =  0.5\ncurrent liability / liability, auc =  0.514\nworking capital/equity, auc =  0.639\ncurrent liability/equity, auc =  0.727\nlong-term liability to current assets, auc =  0.503\nRetained Earnings/Total assets, auc =  0.858\ntotal income / total expense, auc =  0.5\ntotal expense /assets, auc =  0.63\n current asset turnover rate, auc =  0.523\n quick asset turnover rate, auc =  0.541\n working capitcal turnover rate, auc =  0.502\n cash turnover rate, auc =  0.527\n Cash flow to Sales, auc =  0.5\n fix assets to assets, auc =  0.498\n current liability to liability, auc =  0.514\ncurrent liability to equity, auc =  0.727\nequity to long-term liability, auc =  0.668\nCash flow to total assets, auc =  0.635\ncash flow to liability, auc =  0.57\nCFO to ASSETS, auc =  0.711\ncash flow to equity, auc =  0.604\ncurrent liabilities to current assets, auc =  0.805\none if total liabilities exceeds total assets zero otherwise, auc =  0.486\nnet income to total assets, auc =  0.877\ntotal assets to GNP price, auc =  0.506\nNo-credit interval, auc =  0.504\nGross profit to Sales, auc =  0.717\nNet income to stockholder's Equity, auc =  0.765\nliability to equity, auc =  0.764\nDegree of financial leverage (DFL), auc =  0.525\nInterest coverage ratio( Interest expense to EBIT ), auc =  0.525\none if net income was negative for the last two year zero otherwise, auc =  0.0\nequity to liability, auc =  0.83\n",
                    "name": "stdout"
                }
            ]
        },
        {
            "metadata": {},
            "cell_type": "code",
            "source": "# Modify our AUC data to prepare it for further processing down the line\nauc_scores = np.array(auc_scores)\n\nauc = []\nfor x in range(auc_scores.shape[0]):\n    auc.append([auc_scores[x, 0], np.float(auc_scores[x, 1])])",
            "execution_count": 9,
            "outputs": []
        },
        {
            "metadata": {},
            "cell_type": "code",
            "source": "# Import auc into Pandas DataFrame for ranking\ndf_auc = pd.DataFrame(auc)\n\n# Rename column headers\nmapper = { \n    0 : 'Feature Name',\n    1 : 'AUC Score'\n}\ndf_auc = df_auc.rename(columns=mapper)\n\ndf_auc.head()",
            "execution_count": 10,
            "outputs": [
                {
                    "output_type": "execute_result",
                    "execution_count": 10,
                    "data": {
                        "text/plain": "                                        Feature Name  AUC Score\n0   ROA(C) before interest and depreciation befor...      0.863\n1             ROA(A) before interest and % after tax      0.861\n2   ROA(B) before interest and depreciation after...      0.865\n3                             operating gross margin      0.717\n4                        realized sales gross margin      0.716",
                        "text/html": "<div>\n<style scoped>\n    .dataframe tbody tr th:only-of-type {\n        vertical-align: middle;\n    }\n\n    .dataframe tbody tr th {\n        vertical-align: top;\n    }\n\n    .dataframe thead th {\n        text-align: right;\n    }\n</style>\n<table border=\"1\" class=\"dataframe\">\n  <thead>\n    <tr style=\"text-align: right;\">\n      <th></th>\n      <th>Feature Name</th>\n      <th>AUC Score</th>\n    </tr>\n  </thead>\n  <tbody>\n    <tr>\n      <th>0</th>\n      <td>ROA(C) before interest and depreciation befor...</td>\n      <td>0.863</td>\n    </tr>\n    <tr>\n      <th>1</th>\n      <td>ROA(A) before interest and % after tax</td>\n      <td>0.861</td>\n    </tr>\n    <tr>\n      <th>2</th>\n      <td>ROA(B) before interest and depreciation after...</td>\n      <td>0.865</td>\n    </tr>\n    <tr>\n      <th>3</th>\n      <td>operating gross margin</td>\n      <td>0.717</td>\n    </tr>\n    <tr>\n      <th>4</th>\n      <td>realized sales gross margin</td>\n      <td>0.716</td>\n    </tr>\n  </tbody>\n</table>\n</div>"
                    },
                    "metadata": {}
                }
            ]
        },
        {
            "metadata": {},
            "cell_type": "code",
            "source": "# At this point we have what we need to move forward. But if we wanted to stop here and just rank by AUC, here's what we would have\n\n#Select top N features by AUC and export them to a list named 'features_auc'\n\nN = 10\n\ndf_auc.nlargest(N, 'AUC Score', keep='first')\n\n# Finally, here is the list of most important features determining bankrupty, ranked by AUC\n\n#print(\"The most important \" + str(N) + \" features, ranked by AUC:\")\n#for m in range(len(features_auc)):\n#    print(\"No. \" + str(m+1) + \":\" + features_auc[m, 0] + ', AUC = ' + str(features_auc[m, 1]))",
            "execution_count": 11,
            "outputs": [
                {
                    "output_type": "execute_result",
                    "execution_count": 11,
                    "data": {
                        "text/plain": "                                         Feature Name  AUC Score\n18            Persistent EPS in the Last Four Seasons      0.882\n85                         net income to total assets      0.877\n42              net profit before tax/paid-in capital      0.876\n22             Per Share Net profit before tax (yuan)      0.873\n2    ROA(B) before interest and depreciation after...      0.865\n0    ROA(C) before interest and depreciation befor...      0.863\n1              ROA(A) before interest and % after tax      0.861\n67                     Retained Earnings/Total assets      0.858\n36                                       debt ratio %      0.854\n37                                   net worth/assets      0.854",
                        "text/html": "<div>\n<style scoped>\n    .dataframe tbody tr th:only-of-type {\n        vertical-align: middle;\n    }\n\n    .dataframe tbody tr th {\n        vertical-align: top;\n    }\n\n    .dataframe thead th {\n        text-align: right;\n    }\n</style>\n<table border=\"1\" class=\"dataframe\">\n  <thead>\n    <tr style=\"text-align: right;\">\n      <th></th>\n      <th>Feature Name</th>\n      <th>AUC Score</th>\n    </tr>\n  </thead>\n  <tbody>\n    <tr>\n      <th>18</th>\n      <td>Persistent EPS in the Last Four Seasons</td>\n      <td>0.882</td>\n    </tr>\n    <tr>\n      <th>85</th>\n      <td>net income to total assets</td>\n      <td>0.877</td>\n    </tr>\n    <tr>\n      <th>42</th>\n      <td>net profit before tax/paid-in capital</td>\n      <td>0.876</td>\n    </tr>\n    <tr>\n      <th>22</th>\n      <td>Per Share Net profit before tax (yuan)</td>\n      <td>0.873</td>\n    </tr>\n    <tr>\n      <th>2</th>\n      <td>ROA(B) before interest and depreciation after...</td>\n      <td>0.865</td>\n    </tr>\n    <tr>\n      <th>0</th>\n      <td>ROA(C) before interest and depreciation befor...</td>\n      <td>0.863</td>\n    </tr>\n    <tr>\n      <th>1</th>\n      <td>ROA(A) before interest and % after tax</td>\n      <td>0.861</td>\n    </tr>\n    <tr>\n      <th>67</th>\n      <td>Retained Earnings/Total assets</td>\n      <td>0.858</td>\n    </tr>\n    <tr>\n      <th>36</th>\n      <td>debt ratio %</td>\n      <td>0.854</td>\n    </tr>\n    <tr>\n      <th>37</th>\n      <td>net worth/assets</td>\n      <td>0.854</td>\n    </tr>\n  </tbody>\n</table>\n</div>"
                    },
                    "metadata": {}
                }
            ]
        },
        {
            "metadata": {},
            "cell_type": "markdown",
            "source": "With N=10, each of the top 10 features ranked by AUC is data we could likely find on any public company. So we are looking good so far."
        },
        {
            "metadata": {},
            "cell_type": "markdown",
            "source": "## Next, we move onto the Mutual Information algorithm\n\nThe theory behind MI is to compare each feature to determine whether or not certain features contribute the same amount of information to the overall model. The idea is that if, for example, 10 features out of 20 total features contribute similar amounts of information, we should simplify the model by reducing the 10 similar features to, say, 1 feature, thereby reducing our total feature count to 11. \n\nYou can read more here: https://machinelearningmastery.com/information-gain-and-mutual-information/"
        },
        {
            "metadata": {},
            "cell_type": "code",
            "source": "# Import necessary modules\n\nfrom pandas import read_csv\nimport pandas as pd\nfrom sklearn.model_selection import train_test_split\nfrom sklearn.preprocessing import LabelEncoder\nfrom sklearn.preprocessing import OrdinalEncoder\nfrom sklearn.feature_selection import SelectKBest\nfrom sklearn.feature_selection import mutual_info_classif\nfrom matplotlib import pyplot\nimport numpy as np\nimport sklearn",
            "execution_count": 12,
            "outputs": []
        },
        {
            "metadata": {},
            "cell_type": "code",
            "source": "# Define functions to ease extraction and preparation of data for feature engineering\n\n#body = filename\n\ndef load_dataset(filename):\n    data = pd.read_csv(filename)\n    dataset = data.values\n    X = dataset[:, 1:]\n    y = dataset[:,0]\n    \n    X = X.astype(str)\n    return X, y \n\ndef prepare_inputs(X_train, X_test):\n    oe = OrdinalEncoder()\n    \n    oe.fit(X_train)\n    X_train_enc = oe.transform(X_train)\n    \n    oe.fit(X_test) ## IMPORTANT, if you don't use oe.fit on both X_train and X_test the function breaks\n    X_test_enc = oe.transform(X_test)\n    return X_train_enc, X_test_enc\n\ndef prepare_targets(y_train, y_test):\n    le = LabelEncoder()\n    le.fit(y_train)\n    y_train_enc = le.transform(y_train)\n    y_test_enc = le.transform(y_test)\n    return y_train_enc, y_test_enc\n\ndef select_features(X_train, y_train, X_test):\n    fs = SelectKBest(score_func = mutual_info_classif, k='all')\n    fs.fit(X_train, y_train)\n    X_train_fs = fs.transform(X_train)\n    X_test_fs = fs.transform(X_test)\n    return X_train_fs, X_test_fs, fs",
            "execution_count": 13,
            "outputs": []
        },
        {
            "metadata": {},
            "cell_type": "code",
            "source": "# Perform calculations to get scores\n\nX, y = load_dataset(client_1c720e1b65aa412b89762bf230a6b5f6.get_object(Bucket='ibmcapstoneproject-donotdelete-pr-iiaol8yd9vtgm6',Key='data.csv')['Body'])\nX_train, X_test, y_train, y_test = train_test_split(X, y, test_size=0.33, random_state=1)\nX_train_enc, X_test_enc = prepare_inputs(X_train, X_test)\ny_train_enc, y_test_enc = prepare_targets(y_train, y_test)\nX_train_fs, X_test_fs, fs = select_features(X_train_enc, y_train_enc, X_test_enc)",
            "execution_count": 14,
            "outputs": []
        },
        {
            "metadata": {
                "scrolled": true
            },
            "cell_type": "code",
            "source": "# Print scores for the features. Higher is better\n\nfor i in range(len(fs.scores_)):\n    print('Feature %d: %f' % (i, fs.scores_[i]))",
            "execution_count": 15,
            "outputs": [
                {
                    "output_type": "stream",
                    "text": "Feature 0: 0.032125\nFeature 1: 0.039238\nFeature 2: 0.035258\nFeature 3: 0.016897\nFeature 4: 0.015375\nFeature 5: 0.019606\nFeature 6: 0.031128\nFeature 7: 0.031471\nFeature 8: 0.025675\nFeature 9: 0.036402\nFeature 10: 0.003413\nFeature 11: 0.001147\nFeature 12: 0.012948\nFeature 13: 0.012377\nFeature 14: 0.017541\nFeature 15: 0.038551\nFeature 16: 0.037118\nFeature 17: 0.035629\nFeature 18: 0.041010\nFeature 19: 0.007480\nFeature 20: 0.001656\nFeature 21: 0.023957\nFeature 22: 0.041434\nFeature 23: 0.009369\nFeature 24: 0.004865\nFeature 25: 0.015141\nFeature 26: 0.012337\nFeature 27: 0.011277\nFeature 28: 0.019068\nFeature 29: 0.037106\nFeature 30: 0.013398\nFeature 31: 0.002253\nFeature 32: 0.023513\nFeature 33: 0.024122\nFeature 34: 0.034903\nFeature 35: 0.033463\nFeature 36: 0.032669\nFeature 37: 0.033885\nFeature 38: 0.011111\nFeature 39: 0.037038\nFeature 40: 0.000000\nFeature 41: 0.022015\nFeature 42: 0.040808\nFeature 43: 0.007901\nFeature 44: 0.005966\nFeature 45: 0.001414\nFeature 46: 0.001064\nFeature 47: 0.001109\nFeature 48: 0.002200\nFeature 49: 0.000000\nFeature 50: 0.000083\nFeature 51: 0.024016\nFeature 52: 0.005866\nFeature 53: 0.025353\nFeature 54: 0.002973\nFeature 55: 0.000000\nFeature 56: 0.017672\nFeature 57: 0.018969\nFeature 58: 0.024747\nFeature 59: 0.020201\nFeature 60: 0.014038\nFeature 61: 0.017955\nFeature 62: 0.001676\nFeature 63: 0.000000\nFeature 64: 0.020746\nFeature 65: 0.028059\nFeature 66: 0.006800\nFeature 67: 0.032630\nFeature 68: 0.034427\nFeature 69: 0.012236\nFeature 70: 0.002862\nFeature 71: 0.000705\nFeature 72: 0.020675\nFeature 73: 0.007838\nFeature 74: 0.009292\nFeature 75: 0.000209\nFeature 76: 0.000000\nFeature 77: 0.027357\nFeature 78: 0.012712\nFeature 79: 0.006554\nFeature 80: 0.009489\nFeature 81: 0.008769\nFeature 82: 0.009816\nFeature 83: 0.022230\nFeature 84: 0.007139\nFeature 85: 0.037984\nFeature 86: 0.002356\nFeature 87: 0.008939\nFeature 88: 0.015525\nFeature 89: 0.044734\nFeature 90: 0.033657\nFeature 91: 0.032911\nFeature 92: 0.033428\nFeature 93: 0.000000\nFeature 94: 0.032929\n",
                    "name": "stdout"
                }
            ]
        },
        {
            "metadata": {},
            "cell_type": "code",
            "source": "# Put final results into new Pandas DataFrame and rename column headers\n\n#df = pd.read_csv(filename)\n\ndf_mi = []\n\nfor col in range(1, len(feature_names)):\n    df_mi.append([df.columns[col], fs.scores_[col-1]])\n    \ndf_mi = pd.DataFrame(df_mi)\n\nmapping = {\n    0 : 'Feature Name',\n    1 : 'MI Score'\n}\ndf_mi = df_mi.rename(columns = mapping)\ndf_mi.head()",
            "execution_count": 16,
            "outputs": [
                {
                    "output_type": "execute_result",
                    "execution_count": 16,
                    "data": {
                        "text/plain": "                                        Feature Name  MI Score\n0   ROA(C) before interest and depreciation befor...  0.032125\n1             ROA(A) before interest and % after tax  0.039238\n2   ROA(B) before interest and depreciation after...  0.035258\n3                             operating gross margin  0.016897\n4                        realized sales gross margin  0.015375",
                        "text/html": "<div>\n<style scoped>\n    .dataframe tbody tr th:only-of-type {\n        vertical-align: middle;\n    }\n\n    .dataframe tbody tr th {\n        vertical-align: top;\n    }\n\n    .dataframe thead th {\n        text-align: right;\n    }\n</style>\n<table border=\"1\" class=\"dataframe\">\n  <thead>\n    <tr style=\"text-align: right;\">\n      <th></th>\n      <th>Feature Name</th>\n      <th>MI Score</th>\n    </tr>\n  </thead>\n  <tbody>\n    <tr>\n      <th>0</th>\n      <td>ROA(C) before interest and depreciation befor...</td>\n      <td>0.032125</td>\n    </tr>\n    <tr>\n      <th>1</th>\n      <td>ROA(A) before interest and % after tax</td>\n      <td>0.039238</td>\n    </tr>\n    <tr>\n      <th>2</th>\n      <td>ROA(B) before interest and depreciation after...</td>\n      <td>0.035258</td>\n    </tr>\n    <tr>\n      <th>3</th>\n      <td>operating gross margin</td>\n      <td>0.016897</td>\n    </tr>\n    <tr>\n      <th>4</th>\n      <td>realized sales gross margin</td>\n      <td>0.015375</td>\n    </tr>\n  </tbody>\n</table>\n</div>"
                    },
                    "metadata": {}
                }
            ]
        },
        {
            "metadata": {},
            "cell_type": "code",
            "source": "# Show top 10 results by Score\nN = 10\ndf_mi.nlargest(N, 'MI Score', keep='first').head()",
            "execution_count": 17,
            "outputs": [
                {
                    "output_type": "execute_result",
                    "execution_count": 17,
                    "data": {
                        "text/plain": "                                Feature Name  MI Score\n89        Net income to stockholder's Equity  0.044734\n22    Per Share Net profit before tax (yuan)  0.041434\n18   Persistent EPS in the Last Four Seasons  0.041010\n42     net profit before tax/paid-in capital  0.040808\n1     ROA(A) before interest and % after tax  0.039238",
                        "text/html": "<div>\n<style scoped>\n    .dataframe tbody tr th:only-of-type {\n        vertical-align: middle;\n    }\n\n    .dataframe tbody tr th {\n        vertical-align: top;\n    }\n\n    .dataframe thead th {\n        text-align: right;\n    }\n</style>\n<table border=\"1\" class=\"dataframe\">\n  <thead>\n    <tr style=\"text-align: right;\">\n      <th></th>\n      <th>Feature Name</th>\n      <th>MI Score</th>\n    </tr>\n  </thead>\n  <tbody>\n    <tr>\n      <th>89</th>\n      <td>Net income to stockholder's Equity</td>\n      <td>0.044734</td>\n    </tr>\n    <tr>\n      <th>22</th>\n      <td>Per Share Net profit before tax (yuan)</td>\n      <td>0.041434</td>\n    </tr>\n    <tr>\n      <th>18</th>\n      <td>Persistent EPS in the Last Four Seasons</td>\n      <td>0.041010</td>\n    </tr>\n    <tr>\n      <th>42</th>\n      <td>net profit before tax/paid-in capital</td>\n      <td>0.040808</td>\n    </tr>\n    <tr>\n      <th>1</th>\n      <td>ROA(A) before interest and % after tax</td>\n      <td>0.039238</td>\n    </tr>\n  </tbody>\n</table>\n</div>"
                    },
                    "metadata": {}
                }
            ]
        },
        {
            "metadata": {},
            "cell_type": "markdown",
            "source": "## Finally, we put it all together, combining AUC and MI to find the best N features"
        },
        {
            "metadata": {},
            "cell_type": "code",
            "source": "df_auc",
            "execution_count": 18,
            "outputs": [
                {
                    "output_type": "execute_result",
                    "execution_count": 18,
                    "data": {
                        "text/plain": "                                         Feature Name  AUC Score\n0    ROA(C) before interest and depreciation befor...      0.863\n1              ROA(A) before interest and % after tax      0.861\n2    ROA(B) before interest and depreciation after...      0.865\n3                              operating gross margin      0.717\n4                         realized sales gross margin      0.716\n..                                                ...        ...\n90                                liability to equity      0.764\n91                 Degree of financial leverage (DFL)      0.525\n92  Interest coverage ratio( Interest expense to E...      0.525\n93  one if net income was negative for the last tw...      0.000\n94                                equity to liability      0.830\n\n[95 rows x 2 columns]",
                        "text/html": "<div>\n<style scoped>\n    .dataframe tbody tr th:only-of-type {\n        vertical-align: middle;\n    }\n\n    .dataframe tbody tr th {\n        vertical-align: top;\n    }\n\n    .dataframe thead th {\n        text-align: right;\n    }\n</style>\n<table border=\"1\" class=\"dataframe\">\n  <thead>\n    <tr style=\"text-align: right;\">\n      <th></th>\n      <th>Feature Name</th>\n      <th>AUC Score</th>\n    </tr>\n  </thead>\n  <tbody>\n    <tr>\n      <th>0</th>\n      <td>ROA(C) before interest and depreciation befor...</td>\n      <td>0.863</td>\n    </tr>\n    <tr>\n      <th>1</th>\n      <td>ROA(A) before interest and % after tax</td>\n      <td>0.861</td>\n    </tr>\n    <tr>\n      <th>2</th>\n      <td>ROA(B) before interest and depreciation after...</td>\n      <td>0.865</td>\n    </tr>\n    <tr>\n      <th>3</th>\n      <td>operating gross margin</td>\n      <td>0.717</td>\n    </tr>\n    <tr>\n      <th>4</th>\n      <td>realized sales gross margin</td>\n      <td>0.716</td>\n    </tr>\n    <tr>\n      <th>...</th>\n      <td>...</td>\n      <td>...</td>\n    </tr>\n    <tr>\n      <th>90</th>\n      <td>liability to equity</td>\n      <td>0.764</td>\n    </tr>\n    <tr>\n      <th>91</th>\n      <td>Degree of financial leverage (DFL)</td>\n      <td>0.525</td>\n    </tr>\n    <tr>\n      <th>92</th>\n      <td>Interest coverage ratio( Interest expense to E...</td>\n      <td>0.525</td>\n    </tr>\n    <tr>\n      <th>93</th>\n      <td>one if net income was negative for the last tw...</td>\n      <td>0.000</td>\n    </tr>\n    <tr>\n      <th>94</th>\n      <td>equity to liability</td>\n      <td>0.830</td>\n    </tr>\n  </tbody>\n</table>\n<p>95 rows \u00d7 2 columns</p>\n</div>"
                    },
                    "metadata": {}
                }
            ]
        },
        {
            "metadata": {
                "scrolled": true
            },
            "cell_type": "code",
            "source": "# Merge our datasets\nfeatures_auc_mi = pd.merge(df_auc, df_mi, on='Feature Name')\nfeatures_auc_mi.head()\n\n# We give more weight to the MI Score to even it out with AUC Score\n# Basically we want both scores to fall within the same order of magnitude (10^(-1))\nfeatures_auc_mi['mi_score_mod'] = features_auc_mi['MI Score']*10\n\n# Calculate the average score of AUC and modified MI score\nfeatures_auc_mi['avg_score'] = (features_auc_mi['AUC Score'] + features_auc_mi['mi_score_mod']) / 2\n\n# Create a copy of features_auc_mi for naming conventions\nfeatures_final = features_auc_mi\n\"\"\"\nThis was a relic from a past workflow. In reality, it makes the most sense to choose N while training models, not during feature selection.\n\n# Create the final DataFrame containing the top N features\n# features_final = features_auc_mi.nlargest(N, 'avg_score', keep='first')\n\"\"\"\n# View the features dataframe to see most important features in our dataset\nfeatures_final.head()",
            "execution_count": 19,
            "outputs": [
                {
                    "output_type": "execute_result",
                    "execution_count": 19,
                    "data": {
                        "text/plain": "                                        Feature Name  AUC Score  MI Score  \\\n0   ROA(C) before interest and depreciation befor...      0.863  0.032125   \n1             ROA(A) before interest and % after tax      0.861  0.039238   \n2   ROA(B) before interest and depreciation after...      0.865  0.035258   \n3                             operating gross margin      0.717  0.016897   \n4                        realized sales gross margin      0.716  0.015375   \n\n   mi_score_mod  avg_score  \n0      0.321250   0.592125  \n1      0.392376   0.626688  \n2      0.352580   0.608790  \n3      0.168974   0.442987  \n4      0.153747   0.434873  ",
                        "text/html": "<div>\n<style scoped>\n    .dataframe tbody tr th:only-of-type {\n        vertical-align: middle;\n    }\n\n    .dataframe tbody tr th {\n        vertical-align: top;\n    }\n\n    .dataframe thead th {\n        text-align: right;\n    }\n</style>\n<table border=\"1\" class=\"dataframe\">\n  <thead>\n    <tr style=\"text-align: right;\">\n      <th></th>\n      <th>Feature Name</th>\n      <th>AUC Score</th>\n      <th>MI Score</th>\n      <th>mi_score_mod</th>\n      <th>avg_score</th>\n    </tr>\n  </thead>\n  <tbody>\n    <tr>\n      <th>0</th>\n      <td>ROA(C) before interest and depreciation befor...</td>\n      <td>0.863</td>\n      <td>0.032125</td>\n      <td>0.321250</td>\n      <td>0.592125</td>\n    </tr>\n    <tr>\n      <th>1</th>\n      <td>ROA(A) before interest and % after tax</td>\n      <td>0.861</td>\n      <td>0.039238</td>\n      <td>0.392376</td>\n      <td>0.626688</td>\n    </tr>\n    <tr>\n      <th>2</th>\n      <td>ROA(B) before interest and depreciation after...</td>\n      <td>0.865</td>\n      <td>0.035258</td>\n      <td>0.352580</td>\n      <td>0.608790</td>\n    </tr>\n    <tr>\n      <th>3</th>\n      <td>operating gross margin</td>\n      <td>0.717</td>\n      <td>0.016897</td>\n      <td>0.168974</td>\n      <td>0.442987</td>\n    </tr>\n    <tr>\n      <th>4</th>\n      <td>realized sales gross margin</td>\n      <td>0.716</td>\n      <td>0.015375</td>\n      <td>0.153747</td>\n      <td>0.434873</td>\n    </tr>\n  </tbody>\n</table>\n</div>"
                    },
                    "metadata": {}
                }
            ]
        },
        {
            "metadata": {},
            "cell_type": "markdown",
            "source": "# Save selected features DataFrame to Cloud Object Storage"
        },
        {
            "metadata": {},
            "cell_type": "code",
            "source": "# Install pyspark and ibmos2spark\n\n! pip install pyspark\n! pip install ibmos2spark\n\n# Define SparkContext and SparkSession\nfrom pyspark import SparkContext, SparkConf\nfrom pyspark.sql import SparkSession\n\nsc = SparkContext.getOrCreate(SparkConf().setMaster(\"local[*]\"))\n\nspark = SparkSession \\\n    .builder \\\n    .getOrCreate()",
            "execution_count": null,
            "outputs": []
        },
        {
            "metadata": {},
            "cell_type": "code",
            "source": "# Save data to project folder\n\n\"\"\"\n\nNOTE:\n================================================\n \nFor the line: project = Project(sc, \"939d834e-ff85-4a5d-9952-9bf94243d5ae\", \"p-dd6b8c4af5c50be232dc2d685e8091eb69302d20\")\n\nthe Project() function is in the form Project(sc, <my_project_id>, <my_token_id>)\n\nSee: https://www.ibm.com/support/pages/how-do-you-save-dataframe-watson-studio-project-notebook-asset-cloud-object-storage \nto learn how to find values for <my_project_id> and <my_project_token>\n\n\nFinal output of this cell should be something like:\n\n{'file_name': 'data.csv',\n 'message': 'File saved to project storage.',\n 'bucket_name': 'ibmcapstoneproject-donotdelete-pr-iiaol8yd9vtgm6',\n 'asset_id': '1238f15e-8bb8-4a76-8cac-7beaf0917b86'}\n \n \"\"\"\n\nfrom project_lib import Project\n\nproject = Project(sc, \"939d834e-ff85-4a5d-9952-9bf94243d5ae\", \"p-dd6b8c4af5c50be232dc2d685e8091eb69302d20\")\nproject.save_data(file_name = \"features_final.csv\", data = features_final.to_csv(index=False), overwrite=True)",
            "execution_count": 21,
            "outputs": [
                {
                    "output_type": "execute_result",
                    "execution_count": 21,
                    "data": {
                        "text/plain": "{'file_name': 'features_final.csv',\n 'message': 'File saved to project storage.',\n 'bucket_name': 'ibmcapstoneproject-donotdelete-pr-iiaol8yd9vtgm6',\n 'asset_id': 'a26a8a54-8736-4409-8cf5-8cdf04af8231'}"
                    },
                    "metadata": {}
                }
            ]
        },
        {
            "metadata": {},
            "cell_type": "code",
            "source": "",
            "execution_count": null,
            "outputs": []
        }
    ],
    "metadata": {
        "kernelspec": {
            "name": "python3",
            "display_name": "Python 3.7",
            "language": "python"
        },
        "language_info": {
            "name": "python",
            "version": "3.7.9",
            "mimetype": "text/x-python",
            "codemirror_mode": {
                "name": "ipython",
                "version": 3
            },
            "pygments_lexer": "ipython3",
            "nbconvert_exporter": "python",
            "file_extension": ".py"
        }
    },
    "nbformat": 4,
    "nbformat_minor": 1
}